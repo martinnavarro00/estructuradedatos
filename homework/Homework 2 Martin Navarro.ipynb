{
 "cells": [
  {
   "cell_type": "markdown",
   "metadata": {},
   "source": [
    "# Homework 2"
   ]
  },
  {
   "cell_type": "markdown",
   "metadata": {},
   "source": [
    "##  1. Given the following implementation of the class `PriorityQueue`, implement the methods:\n",
    "\n",
    "- `insert(v,k)` - add an element $v$ with priority $k$. Complexity $O(n)$\n",
    "- `deleteMin()` - remove the element with the lowest $k$ (highest priority). Complexity $O(1)$\n",
    "- `decreaseKey(v,k)` - decrease the value of $k$ (increase priority). Complexity $O(n)$\n",
    "\n",
    "**Show complexity analysis for each implementation**"
   ]
  },
  {
   "cell_type": "code",
   "execution_count": 25,
   "metadata": {},
   "outputs": [],
   "source": [
    "class PriorityQueue(object):\n",
    "    def insert(v,item):#O(1)\n",
    "        if v.item_value == v.n:\n",
    "            raise ValueError(\"no more capacity\")\n",
    "        else:\n",
    "             i = v.item_count\n",
    "        while (i > 0):\n",
    "            v.v[i] = v.v[i-1]\n",
    "            i -= 1\n",
    "        v.v[0] = item\n",
    "        v.item_count += 1\n",
    "    def deleteMin():#O(n)\n",
    "        for i in n:\n",
    "            if i>i+1:\n",
    "                key=i\n",
    "        queue-=key\n",
    "        return key\n",
    "    def decreaseKey(v,key):#O(n)\n",
    "        for i in n:\n",
    "            if i>i+1:\n",
    "                key=i\n",
    "        item+=key\n",
    "        return item\n",
    "        \n",
    "        \n",
    "    "
   ]
  },
  {
   "cell_type": "markdown",
   "metadata": {},
   "source": [
    "## 2. You are given two non-negative integers in the form of two non-empty linked lists. The digits are stored in reverse order, and each nodes contains a single digit. Add the two numbers and return the sum as a linked list.\n",
    "\n",
    "For example:\n",
    "\n",
    "**Input:** \n",
    "- $L_1$ = 1 -> 4 -> 5\n",
    "- $L_2$ = 4 -> 3 -> 2\n",
    "\n",
    "**Output:**\n",
    "- $L_3$ = 5 -> 7 -> 7\n",
    "\n",
    "Note that, the problem is equivalent to adding: 541 + 234  =  775"
   ]
  },
  {
   "cell_type": "code",
   "execution_count": 82,
   "metadata": {},
   "outputs": [],
   "source": [
    "class Node:\n",
    "    def __init__(self, val=None):\n",
    "        self.val = val\n",
    "        self.next = None\n",
    "    \n",
    "    def set_next_node(self, next_node):\n",
    "        self.next_node = next_node\n",
    "class Sum:\n",
    "    def addList(self,l1,l2):\n",
    "        r=Node(0)\n",
    "        tail=r\n",
    "        carry=0\n",
    "        ans=Node(tail)\n",
    "        v1=Node(l1.val)\n",
    "        v2=Node(l2.val)\n",
    "        tail=self.addList(v1.next,v2.next)\n",
    "        return tail\n",
    "\n",
    "class Singly_linked_list:\n",
    "    \"\"\"\n",
    "    Implementation of a singly linked list\n",
    "    \"\"\"\n",
    "    def __init__(self, v):\n",
    "        self.val=v\n",
    "        self.next=None\n",
    "        \n",
    "\n",
    "\n",
    "        \n",
    "        "
   ]
  },
  {
   "cell_type": "code",
   "execution_count": 83,
   "metadata": {},
   "outputs": [],
   "source": [
    "n1=Node(\"1\")\n",
    "n2=Node(\"2\")\n",
    "n3=Node(\"3\")\n",
    "n1.set_next_node(n2)\n",
    "n2.set_next_node(n3)\n",
    "l1=Singly_linked_list(n1)\n",
    "m1=Node(\"8\")\n",
    "m2=Node(\"7\")\n",
    "m3=Node(\"6\")\n",
    "m1.set_next_node(m2)\n",
    "m2.set_next_node(m3)\n",
    "l2=Singly_linked_list(m1)\n",
    "a=Sum()\n",
    "#a.addList(l1,l2)\n",
    "\n"
   ]
  },
  {
   "cell_type": "markdown",
   "metadata": {},
   "source": [
    "## 3. Given a linked list, detect if the list has a cycle. If a cycle is detected, return the position of the node (with respect to the head) where the cycle starts.\n",
    "\n",
    "For example:\n",
    "\n",
    "![](./cycle.png)\n",
    "\n",
    "**Input:**\n",
    "- Jan -> Feb -> March -> Dec\n",
    "\n",
    "**Output:**\n",
    "- True\n",
    "- 2"
   ]
  },
  {
   "cell_type": "code",
   "execution_count": 97,
   "metadata": {},
   "outputs": [
    {
     "name": "stdout",
     "output_type": "stream",
     "text": [
      "False\n"
     ]
    }
   ],
   "source": [
    "class Node:\n",
    "    def __init__(self, val=None):\n",
    "        self.val = val\n",
    "        self.next = None\n",
    "    \n",
    "    def set_next_node(self, next_node):\n",
    "        self.next_node = next_node\n",
    "\n",
    "def detectCycle(head):\n",
    "    tail=head\n",
    "    start=0\n",
    "    while tail!=None:\n",
    "        tail=tail.next\n",
    "        start+=1\n",
    "        k=start\n",
    "        body=head\n",
    "        while k>0:\n",
    "            if tail==head:\n",
    "                return True\n",
    "            body==body.next\n",
    "            k-=1\n",
    "    return False\n",
    "a=Node(\"Jan\")\n",
    "a1=Node(\"Feb\")\n",
    "a2=Node(\"March\")\n",
    "a3=Node(\"Dec\")\n",
    "a.set_next_node(a1)\n",
    "a1.set_next_node(a2)\n",
    "a2.set_next_node(a3)\n",
    "a3.set_next_node(a)\n",
    "\n",
    "\n",
    "print(detectCycle(a))\n"
   ]
  },
  {
   "cell_type": "markdown",
   "metadata": {},
   "source": [
    "## 4.  CLRS 10.1-5\n",
    "pg. 236\n",
    "\n",
    "**Implement as a Python class**"
   ]
  },
  {
   "cell_type": "code",
   "execution_count": 19,
   "metadata": {},
   "outputs": [],
   "source": [
    "import ctypes\n",
    "class Queue(object):\n",
    "    def head_enqueue(self, item):\n",
    "        if self.item_count == self.n:\n",
    "            raise ValueError(\"no more capacity\")\n",
    "        else:\n",
    "            self.head_node = item\n",
    "            self.queue[self.item_count] = item\n",
    "            self.item_count += 1\n",
    "            \n",
    "    def tail_enqueue(self,item):\n",
    "        if self.item_count == self.n:\n",
    "            raise ValueError(\"no more capacity\")\n",
    "            \n",
    "        else:\n",
    "            self.queue[self.tail_node]==item\n",
    "            if self.tail_node == self.n:\n",
    "                self.tail_node=1\n",
    "                \n",
    "            else:\n",
    "                self.tail_node = self_tail_node+1\n",
    "                \n",
    "    def head_dequeue(self):\n",
    "        c = self.queue[self.head_node]\n",
    "        for i in range(1,self.item_count):\n",
    "            self.queue[i-1] = self.queue[i]\n",
    "        self.queue[self.item_count - 1] = ctypes.py_object\n",
    "        self.item_count += 1\n",
    "        return c\n",
    "    def tail_dequeue(self):\n",
    "        c = self.queue[self.tail_node]\n",
    "        for i in range(1,self.item_count):\n",
    "            self.queue[i-1] = self.queue[i]\n",
    "        self.queue[self.item_count - 1] = ctypes.py_object\n",
    "        self.item_count -= 1\n",
    "        return c\n",
    "        \n",
    "            \n",
    "        \n",
    "            \n",
    "    "
   ]
  },
  {
   "cell_type": "markdown",
   "metadata": {},
   "source": [
    "## 5.  CLRS 10.1-6\n",
    "pg. 236\n",
    "\n",
    "**Implement as a Python class**"
   ]
  },
  {
   "cell_type": "code",
   "execution_count": 20,
   "metadata": {},
   "outputs": [],
   "source": [
    "class Stack(object):\n",
    "    def enqueue(self,item):\n",
    "        if self.item_count == self.n:\n",
    "            raise ValueError(\"no more capacity\")\n",
    "        self.stack[self.queue[self.item_count]] = item\n",
    "        self.item_count += 1\n",
    "        \n",
    "    def dequeue(self):\n",
    "        c = self.queue[0]\n",
    "        for i in range(1,self.item_count):\n",
    "            self.queue[i-1] = self.queue[i]\n",
    "        self.stack[self.queue[self.item_count - 1]] = ctypes.py_object\n",
    "        self.item_count -= 1\n",
    "        return c\n",
    "    "
   ]
  },
  {
   "cell_type": "markdown",
   "metadata": {},
   "source": [
    "## 6.  CLRS 10.1-7\n",
    "pg. 236\n",
    "\n",
    "**Implement as a Python class**"
   ]
  },
  {
   "cell_type": "code",
   "execution_count": 7,
   "metadata": {},
   "outputs": [],
   "source": [
    "class stack(object):\n",
    "    def enqueue_push(self,item):\n",
    "        if self.item_count == self.n:\n",
    "            raise ValueError(\"no more capacity\")  \n",
    "        self.queue[self.stack[self.item_count]] = item\n",
    "        self.item_count += 1\n",
    "    def dequeue_pop(self):\n",
    "        c = self.stack[self.item_count-1]\n",
    "        self.queue[self.stack[self.item_count - 1]]=ctypes.py_object\n",
    "        self.item_count -= 1\n",
    "        return c"
   ]
  },
  {
   "cell_type": "code",
   "execution_count": null,
   "metadata": {},
   "outputs": [],
   "source": []
  }
 ],
 "metadata": {
  "kernelspec": {
   "display_name": "Python 3",
   "language": "python",
   "name": "python3"
  },
  "language_info": {
   "codemirror_mode": {
    "name": "ipython",
    "version": 3
   },
   "file_extension": ".py",
   "mimetype": "text/x-python",
   "name": "python",
   "nbconvert_exporter": "python",
   "pygments_lexer": "ipython3",
   "version": "3.7.3"
  }
 },
 "nbformat": 4,
 "nbformat_minor": 5
}
