{
 "cells": [
  {
   "cell_type": "markdown",
   "metadata": {},
   "source": [
    "## Verdadero o falso con argumentos"
   ]
  },
  {
   "cell_type": "markdown",
   "metadata": {},
   "source": [
    "### 1.  Una función recursiva resuelve un problema resolviendo una parte mas pequeña del mismo problema "
   ]
  },
  {
   "cell_type": "markdown",
   "metadata": {},
   "source": [
    "verdadero,\n",
    "una funcion recursiva se llama a si misma, y se reduce en subproblemas \n",
    "hasta que se puede resolver si utilizar recursion."
   ]
  },
  {
   "cell_type": "markdown",
   "metadata": {},
   "source": [
    "### 2.  Los modelos computacionales nos ayudan a analizar la complejidad de los algoritmos, ya que nos proveen de las especificaciones de la computadora en la cual estos se ejecutarían idealmente"
   ]
  },
  {
   "cell_type": "markdown",
   "metadata": {},
   "source": [
    "Verdadero,\n",
    "La computadora nos provee con el tiempo y la memoria que ocupan estos algoritmos."
   ]
  },
  {
   "cell_type": "markdown",
   "metadata": {},
   "source": [
    "### 3.  La búsqueda en un árbol binario de búsqueda es siempre mas rápida que la búsqueda lineal en un arreglo"
   ]
  },
  {
   "cell_type": "code",
   "execution_count": null,
   "metadata": {},
   "outputs": [],
   "source": []
  },
  {
   "cell_type": "markdown",
   "metadata": {},
   "source": [
    "Falso,\n",
    "la busqueda lineal es mas eficaz y rapido que la busqueda de arbol binario.\n",
    "La busqueda lineal tiene una comlejidad de O(n) mientras que de un arbol binario de busqueda tiene \n",
    "complejidad de O(log(n))"
   ]
  },
  {
   "cell_type": "markdown",
   "metadata": {},
   "source": [
    "### 4. Un algoritmo de complejidad O(nlog(n)) es mas rápido que un algoritmo de complejidad O(n) "
   ]
  },
  {
   "cell_type": "markdown",
   "metadata": {},
   "source": [
    "Verdadero,\n",
    "omega(nlog(n))es mas rapida que omega(n)"
   ]
  },
  {
   "cell_type": "markdown",
   "metadata": {},
   "source": [
    "### 5.  Un algoritmo de complejidad Ω(nlog(n)) es mas rápido que un algoritmo de complejidad Ω(n)"
   ]
  },
  {
   "cell_type": "markdown",
   "metadata": {},
   "source": [
    "Falso,\n",
    "O(nlog(n)) tiene una peor rapidez en complejidad de tiempo"
   ]
  },
  {
   "cell_type": "markdown",
   "metadata": {},
   "source": [
    "## Problemas de programación\n",
    "#### Todo el código debe ser en Python. Si se requiere escribir funciones que hagan búsqueda o ordenamiento (search, sort), programe las funciones usando los conceptos aprendidos en clase. No use las funciones que Python provee para hacer esto. "
   ]
  },
  {
   "cell_type": "markdown",
   "metadata": {},
   "source": [
    "### 6. Dada una lista enlazada que represente un número. Por ejemplo, 123 es representado por la lista 1->2->3 si la lista es simple o con doble enlace si es doble. Escriba un programa que haga lo siguiente:\n",
    "\n",
    "1. Reciba dos números A y B como input\n",
    "\n",
    "2. Transforme estos números a listas enlazadas como la definida arriba\n",
    "\n",
    "3. Implemente la resta de los números descritos por esas listas enlazadas. El resultado (A-B) debe ser almacenado en una lista enlazada.\n",
    "\n",
    "4. Imprima el resultado concatenando el valor de los nodos de la lista enlazada resultante\n",
    "\n",
    "Nota: asuma que el número A es mayor que B"
   ]
  },
  {
   "cell_type": "code",
   "execution_count": 12,
   "metadata": {},
   "outputs": [],
   "source": [
    "class Node:\n",
    "    def __init__(self,val):\n",
    "        self.val=val\n",
    "        self.next=None\n",
    "\n",
    "class LinkedList:\n",
    "    def __init__(self,head_node=None):\n",
    "        self.head=None\n",
    "    def push(self,newNode):\n",
    "        new_node=Node(newNode)\n",
    "        new_node.next=self.head\n",
    "        self.head=new_node\n",
    "    def rest_num(l1,l2):\n",
    "        carry=0\n",
    "        total=0\n",
    "        prev=none\n",
    "        while(l1 is none and l2 is none):\n",
    "\n",
    "            if not l1:\n",
    "                total=l2.val\n",
    "                l2=l2.next\n",
    "\n",
    "            if not l2:\n",
    "                total=l1.val\n",
    "                l1=l1.next\n",
    "            else:\n",
    "                total=l1.val-l2.val\n",
    "                l1,l2=l1.next,l2.next\n",
    "\n",
    "            if total<=0:\n",
    "                total=l1.val+10-l2.val\n",
    "                carry=1\n",
    "                l1.next-=carry\n",
    "            else:\n",
    "                carry=0\n",
    "\n",
    "        curr = ListNode(total)\n",
    "        if prev:\n",
    "            prev.next = curr\n",
    "        else:\n",
    "            head = curr\n",
    "            prev = curr\n",
    "           \n",
    "\n",
    "        return head\n",
    "    "
   ]
  },
  {
   "cell_type": "markdown",
   "metadata": {},
   "source": [
    "### 7.  Cuando introducimos el concepto de pilas (stacks), usamos como ejemplos una pila de platos. Siguiendo con el ejemplo, una pila de platos con muchos platos se puede caer. Para evitar esto, se puede empezar una nueva pila.\n",
    "\n",
    "Implemente una clase de Python que defina un arreglo de stacks. La idea de tener este arreglo es que cuando un stack alcance su capacidad máxima, un nuevo stack empieza en el mismo arreglo. Las operación pop() debe retornar el mismo valor que lo haría si estuviéramos usando un stack simple. \n",
    "\n",
    "Nota: Debe definir los elementos de la clase: el arreglo de stacks, la capacidad del arreglo (# de stacks en el arreglo), la capacidad de cada stack (# de elementos que puede tener el stack). \n",
    "\n",
    "Hint: Cuando ingrese elementos (push), los elementos van al stack que este activo (el stack que recibe y retira elementos). Debe manejar las condiciones para cambiar el stack activo (cuando un push() deja al stack sin elementos, o cuando un pop() llena el stack)."
   ]
  },
  {
   "cell_type": "code",
   "execution_count": 11,
   "metadata": {},
   "outputs": [],
   "source": [
    "import ctypes\n",
    "class Stacks:\n",
    "    def __init__(self,n):\n",
    "        self.n=n\n",
    "        self.item_count=0\n",
    "        self.stack=[n]\n",
    "    def _create_stack(self, n):\n",
    "        return (n * ctypes.py_object)()\n",
    "    def push(self,item):\n",
    "        if self.item_count==self.n:\n",
    "            self.new_stack=[2*n]\n",
    "            self.new_stack[self.item_count]=item\n",
    "            self.item_count+=1\n",
    "            \n",
    "        self.stack[self.item_count]=item\n",
    "        self.item_count+=1\n",
    "    \n",
    "    def pop(self):\n",
    "        if self.item_count==self.n:\n",
    "            c=self.new_stack[self.item_count-1]\n",
    "            self.new_stack[self.item_count] = ctypes.py_object\n",
    "            self.item_count -= 1\n",
    "            return c\n",
    "        else:\n",
    "            c=self.stack[self.item_count-1]\n",
    "            self.stack[self.item_count] = ctypes.py_object\n",
    "            self.item_count -= 1\n",
    "            return c"
   ]
  },
  {
   "cell_type": "markdown",
   "metadata": {},
   "source": [
    "### 8. Dada una cola con prioridad (PriorityQueue) que contiene elementos (k,v) donde k define la prioridad y v define el valor. Recuerde que los valores con menor k tienen mayor prioridad, es decir si tenemos dos elementos (k1, v1) y (k2, v2), v2 tiene preferencia para salir de la cola antes que v1 si k2< k1. Definimos algunas de las operaciones como siguen:\n",
    "\n",
    "```\n",
    "import ctypes\n",
    "\n",
    "class PriorityQueue(object):\n",
    "\n",
    "\"\"\"\n",
    "\n",
    "Implementation of the queue data structure\n",
    "\n",
    "\"\"\"\n",
    "\n",
    "def __init__(self, n):\n",
    "\n",
    "self.item_count = 0\n",
    "\n",
    "self.n = n\n",
    "\n",
    "self.queue = self._create_queue(self.n)\n",
    "\n",
    "def _create_queue(self, n):\n",
    "\n",
    "\"\"\"\n",
    "\n",
    "Creates a new stack of capacity n\n",
    "\n",
    "\"\"\"\n",
    "\n",
    "return (n * ctypes.py_object)()\n",
    "\n",
    "def dequeue(self):\n",
    "\n",
    "\"\"\"\n",
    "\n",
    "Remove an element from the queue\n",
    "\n",
    "\"\"\"\n",
    "\n",
    "c = self.queue[0]\n",
    "\n",
    "for i in range(1,self.item_count):\n",
    "\n",
    "self.queue[i-1] = self.queue[i]\n",
    "\n",
    "self.queue[self.item_count - 1] = ctypes.py_object\n",
    "\n",
    "self.item_count -= 1\n",
    "\n",
    "return c\n",
    "```\n",
    "\n",
    "### Implemente los métodos enqueue y decreaseKey, tal que ambos métodos tengan complejidad O(log(n)), sin utilizar funciones nativas de Python. Por ejemplo, si necesita hacer una búsqueda, no use la función de Python que implementa esto, programe la función usando for o while loops."
   ]
  },
  {
   "cell_type": "code",
   "execution_count": 9,
   "metadata": {},
   "outputs": [],
   "source": [
    "import ctypes\n",
    "\n",
    "class PriorityQueue(object):\n",
    "\n",
    "    \"\"\"\n",
    "\n",
    "    Implementation of the queue data structure\n",
    "\n",
    "    \"\"\"\n",
    "\n",
    "    def __init__(self, n):\n",
    "\n",
    "        self.item_count = 0\n",
    "\n",
    "        self.n = n\n",
    "\n",
    "        self.queue = self._create_queue(self.n)\n",
    "\n",
    "    def _create_queue(self, n):\n",
    "\n",
    "        \"\"\"\n",
    "\n",
    "        Creates a new stack of capacity n\n",
    "\n",
    "        \"\"\"\n",
    "\n",
    "        return (n * ctypes.py_object)()\n",
    "\n",
    "    def dequeue(self):\n",
    "\n",
    "        \"\"\"\n",
    "\n",
    "        Remove an element from the queue\n",
    "\n",
    "        \"\"\"\n",
    "\n",
    "        c = self.queue[0]\n",
    "\n",
    "        for i in range(1,self.item_count):\n",
    "\n",
    "            self.queue[i-1] = self.queue[i]\n",
    "\n",
    "            self.queue[self.item_count - 1] = ctypes.py_object\n",
    "\n",
    "            self.item_count -= 1\n",
    "\n",
    "        return c\n",
    "    def enqueue(self, item):\n",
    "        if self.item_count == self.n:\n",
    "            raise ValueError(\"no more capacity\")\n",
    "        for i in range(1,self.item_count):\n",
    "            self.queue[self.item_count]=item\n",
    "            self.item_count+=1\n",
    "        \n",
    "    def decreaseKey(self,v,k):\n",
    "        i = 0\n",
    "        while i < len(self.queue):\n",
    "            if self.queue[i][1] == v:\n",
    "                break\n",
    "            else:\n",
    "                ind += 1\n",
    "        if i == len(self.queue):\n",
    "            raise ValueError(\"Value not found\")\n",
    "        self.queue[i][0] = k"
   ]
  },
  {
   "cell_type": "markdown",
   "metadata": {},
   "source": [
    "### 9. Tenemos un árbol binario (binary tree), definimos a un nodo X como rojo, si todos los nodos en el recorrido de la raiz al nodo X tienen un valor que es menor o igual a X. Por ejemplo, en el ejemplo de abajo:\n",
    "\n",
    "![](./binary_tree.png)\n",
    "\n",
    "El recorrido hacia el nodo 3 de la izquierda es 3 → 1 → 3, como todos los valores en este recorrido son menores o iguales a 3 (3=3 y 1<3), el nodo es rojo. Similarmente, en el sub-árbol de la derecha, los nodos 4 y 5 también son rojos. Escriba una función en Python que cuente el numero total de nodos rojos. El input de esta función es la raíz del árbol binario.\n",
    "\n",
    " "
   ]
  },
  {
   "cell_type": "code",
   "execution_count": 8,
   "metadata": {},
   "outputs": [],
   "source": [
    "class TreeNode:\n",
    "    def __init__(self, val=0, left=None, right=None):\n",
    "        self.val = x\n",
    "        self.left = None\n",
    "        self.right = None\n",
    "    def search(val):\n",
    "        current=0\n",
    "        if self.left is None:\n",
    "            current=0\n",
    "        if self.right is None:\n",
    "            current=0\n",
    "        if root is not None:\n",
    "            if self.left<=3:\n",
    "                search(val)\n",
    "                current==current\n",
    "            elif self.left>3:\n",
    "                current+=1\n",
    "            if self.right<=3:\n",
    "                search(val)\n",
    "                current==current\n",
    "            elif self.right>3:\n",
    "                current+=1\n",
    "        \n",
    "        return current\n",
    "            \n",
    "        "
   ]
  },
  {
   "cell_type": "code",
   "execution_count": null,
   "metadata": {},
   "outputs": [],
   "source": []
  }
 ],
 "metadata": {
  "kernelspec": {
   "display_name": "Python 3",
   "language": "python",
   "name": "python3"
  },
  "language_info": {
   "codemirror_mode": {
    "name": "ipython",
    "version": 3
   },
   "file_extension": ".py",
   "mimetype": "text/x-python",
   "name": "python",
   "nbconvert_exporter": "python",
   "pygments_lexer": "ipython3",
   "version": "3.7.3"
  }
 },
 "nbformat": 4,
 "nbformat_minor": 5
}
