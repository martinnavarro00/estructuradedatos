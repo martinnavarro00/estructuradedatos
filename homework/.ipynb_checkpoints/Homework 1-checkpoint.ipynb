{
 "cells": [
  {
   "cell_type": "markdown",
   "metadata": {},
   "source": [
    "# Homework 1"
   ]
  },
  {
   "cell_type": "code",
   "execution_count": null,
   "metadata": {},
   "outputs": [],
   "source": [
    "import time\n",
    "import pandas as pd\n",
    "import numpy as np\n",
    "import matplotlib.pyplot as plt\n",
    "%matplotlib inline"
   ]
  },
  {
   "cell_type": "markdown",
   "metadata": {},
   "source": [
    "##  1. Sort the following functions in decreasing order of asymptotic complexity ($O(f(n))$):\n",
    "\n",
    "- $f_1(n) = n^\\sqrt{n}$\n",
    "- $f_2(n) = 2^n$\n",
    "- $f_3(n) = {n\\choose 2}$\n",
    "- $f_4(n) = \\sum_{i=2}^n (i-1)$"
   ]
  },
  {
   "cell_type": "markdown",
   "metadata": {},
   "source": [
    "\n"
   ]
  },
  {
   "cell_type": "code",
   "execution_count": null,
   "metadata": {},
   "outputs": [],
   "source": []
  },
  {
   "cell_type": "markdown",
   "metadata": {},
   "source": [
    "## 2. Implement in Python the insertion sort procedure to sort into non-increasing instead of non-decreasing order \n",
    "\n",
    "1. Use the `time` function to measure the execution time for the best and worst inputs of size between 10 and 1,000 (use steps of 10)\n",
    "2. Plot the best and worst execution times measured in (2.1) as a function of $n$\n",
    "3. Use the `random` function to generate randomly sorted inputs to calculate the execution time. For each $n$ run the program for 100 different inputs. Do for $n = 100,200, \\dots, 1000$.\n",
    "4. Plot the mean, median, and standard deviation as a function of $n$ for the values obtained in 2.3\n"
   ]
  },
  {
   "cell_type": "code",
   "execution_count": null,
   "metadata": {},
   "outputs": [],
   "source": []
  },
  {
   "cell_type": "markdown",
   "metadata": {},
   "source": [
    "## 3.  CLRS 2.1-4\n",
    "pg. 22"
   ]
  },
  {
   "cell_type": "code",
   "execution_count": 3,
   "metadata": {},
   "outputs": [],
   "source": [
    "def SumBin(A,B):\n",
    "    n=(len(A),len(B))\n",
    "    temp=0\n",
    "    i=1\n",
    "    for i in range(n+1):\n",
    "        C[i]=(A[i]+B[i]+temp)%2\n",
    "        temp=(A[i]+B[i]+temp)//2\n",
    "        \n",
    "    return C\n",
    "        \n",
    "        \n",
    "\n"
   ]
  },
  {
   "cell_type": "markdown",
   "metadata": {},
   "source": [
    "## 4.  CLRS 3.1-1\n",
    "pg. 52"
   ]
  },
  {
   "cell_type": "markdown",
   "metadata": {},
   "source": [
    "$$0 \\leq c_1g(n) \\leq f(n) \\leq c_2g(n)$$\n",
    "Therefore...\n",
    "$$0 \\leq c_1(f(n)+g(n)) \\leq max(f(n),g(n)) \\leq c_2(f(n)+g(n)) $$\n",
    "where $$n\\geq n_0$$\n",
    "\n",
    "$$f(n)+g(n) \\geq max(f(n),g(n))$$\n",
    "\n",
    "$$f(n)+g(n) \\leq 2max(f(n),g(n))$$\n",
    "$$\\frac1 2 f(n)+g(n) \\leq max(f(n),g(n))$$\n",
    "\n",
    "so \n",
    " \n",
    "  $c_1= \\frac1 2$  and  $c_2 \\geq 1$ \n",
    "\n",
    "\n"
   ]
  },
  {
   "cell_type": "code",
   "execution_count": null,
   "metadata": {},
   "outputs": [],
   "source": []
  },
  {
   "cell_type": "markdown",
   "metadata": {},
   "source": [
    "## 5. CLRS 3.1-2\n",
    "pg. 52"
   ]
  },
  {
   "cell_type": "markdown",
   "metadata": {},
   "source": [
    "Based on the $\\theta$ definition\n",
    "\n",
    "$$0\\leq c_1n^b\\leq(n+a)^b\\leq c_2n^b $$\n",
    "where\n",
    "$$  n\\geq n_0$$\n",
    "$n+a\\leq2n$ when $n\\geq|a|$ \n",
    "$$ $$\n",
    "so $n\\geq 2|a|$ and $|a|\\leq \\frac n 2 $\n",
    "$$ $$\n",
    "Therefore,\n",
    "$$ 0\\leq \\frac n 2 \\leq n+a \\leq 2n $$\n",
    "$$ $$\n",
    "$$ 0\\leq (\\frac n 2)^b \\leq (n+a)^b \\leq (2n)^b $$\n",
    "$$ $$\n",
    "$$ 0\\leq (\\frac 1 2)^b n^b \\leq (n+a)^b \\leq (2)^b n^b $$\n",
    "\n",
    "So $c_1= (\\frac 1 2)^b$, $c_2=2^b$ and $n_0=2|a|$\n",
    "\n",
    "Therefore, $(n+a)^b=\\Theta(n)^b$\n",
    "\n",
    "\n",
    "\n",
    "\n"
   ]
  },
  {
   "cell_type": "markdown",
   "metadata": {},
   "source": [
    "## 6. CLRS 3.1-6\n",
    "pg. 53"
   ]
  },
  {
   "cell_type": "code",
   "execution_count": null,
   "metadata": {},
   "outputs": [],
   "source": []
  },
  {
   "cell_type": "markdown",
   "metadata": {},
   "source": [
    "## 7. CLRS 3-4 (a,b,e,g)\n",
    "pg. 62"
   ]
  },
  {
   "cell_type": "code",
   "execution_count": null,
   "metadata": {},
   "outputs": [],
   "source": []
  }
 ],
 "metadata": {
  "kernelspec": {
   "display_name": "Python 3",
   "language": "python",
   "name": "python3"
  },
  "language_info": {
   "codemirror_mode": {
    "name": "ipython",
    "version": 3
   },
   "file_extension": ".py",
   "mimetype": "text/x-python",
   "name": "python",
   "nbconvert_exporter": "python",
   "pygments_lexer": "ipython3",
   "version": "3.7.3"
  }
 },
 "nbformat": 4,
 "nbformat_minor": 5
}
