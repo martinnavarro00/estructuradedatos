{
 "cells": [
  {
   "cell_type": "markdown",
   "metadata": {},
   "source": [
    "# Homework 3"
   ]
  },
  {
   "cell_type": "markdown",
   "metadata": {},
   "source": [
    "## 1. [10 pts] Given a list of list of dimension m x n (2-D matrix) representing a map of '1's (land) and '0's (water), write a Python function that returns the number of islands and takes the matrix as input. \n",
    "\n",
    "- An island is surrounded by water and is formed by connecting adjacent lands horizontally or vertically.\\\n",
    "- Assume all four edges of the matrix are all surrounded by water.\n",
    "- Write an implementation for BFS and one for DFS\n",
    "\n",
    "\n",
    "Example:\n",
    "\n",
    "```\n",
    "Input: map = [\n",
    "  [\"1\",\"1\",\"0\",\"0\",\"0\"],\n",
    "  [\"1\",\"1\",\"0\",\"0\",\"0\"],\n",
    "  [\"0\",\"0\",\"1\",\"0\",\"0\"],\n",
    "  [\"0\",\"0\",\"0\",\"1\",\"1\"]\n",
    "]\n",
    "Output: 3\n",
    "```\n"
   ]
  },
  {
   "cell_type": "code",
   "execution_count": 7,
   "metadata": {},
   "outputs": [],
   "source": [
    "#DFS\n",
    "def numOfIslands(grid):\n",
    "    m=len(grid)\n",
    "    n=len(grid[0])\n",
    "    count=0\n",
    "    if not grid:\n",
    "        return 0\n",
    "    def dfs(r,c):\n",
    "        \n",
    "        if r<0 or c<0 or r>=m or c>=n:\n",
    "            return\n",
    "        grid[r][c]=\"0\"\n",
    "        dfs(r+1,c)\n",
    "        dfs(r-1,c)\n",
    "        dfs(r,c+1)\n",
    "        dfs(r,c-1)\n",
    "    for row in range(m):\n",
    "        for col in range(n):\n",
    "            if grid[row][col]==\"1\":\n",
    "                dfs(row,col)\n",
    "                count+=1\n",
    "    return count\n"
   ]
  },
  {
   "cell_type": "code",
   "execution_count": 8,
   "metadata": {},
   "outputs": [],
   "source": [
    "#BFS\n",
    "def numOfIslands(grid):\n",
    "    m=len(grid)\n",
    "    n=len(grid[0])\n",
    "    count=0\n",
    "    if grid == 0:\n",
    "        return 0\n",
    "    \n",
    "    def bfs(r,c):\n",
    "        visited =[]\n",
    "        while visited:\n",
    "            r,c = visited.pop(r,c)\n",
    "            if r+1<=m and grid[r+1][c]==\"1\":\n",
    "                visited.append(r+1,c)\n",
    "                grid[r+1][c]==\"0\"\n",
    "                \n",
    "            if r-1<=m and grid[r-1][c]==\"1\":\n",
    "                visited.append(r-1,c)\n",
    "                grid[r+1][c]==\"0\"\n",
    "                \n",
    "            if c+1<=n and grid[r][c+1]==\"1\":\n",
    "                visited.append(r,c+1)\n",
    "                grid[r][c+1]==\"0\"\n",
    "                \n",
    "            if c-1<=n and grid[r][c-1]==\"1\":\n",
    "                visited.append(r,c-1)\n",
    "                grid[r][c-1]==\"0\"\n",
    "        \n",
    "    for row in range(m):\n",
    "        for col in range(n):\n",
    "            if grid[row][col]==\"1\":\n",
    "                bfs(row,col)\n",
    "                count+=1\n",
    "    return count     "
   ]
  },
  {
   "cell_type": "markdown",
   "metadata": {},
   "source": [
    "## 2. [5 pts] A perfect square is an integer that is the square of an integer; in other words, it is the product of some integer with itself. For example, 1, 4, 9, and 16 are perfect squares, and 2 and 5 are not perfect squares\n",
    "\n",
    "Use BFS and write a Python function that gets a number `n` as input and return the least number of perfect square numbers that sum to `n`\n",
    "\n",
    "Example 1:\n",
    "\n",
    "```\n",
    "Input: n = 12\n",
    "Output: 3\n",
    "Explanation: 12 = 4 + 4 + 4.\n",
    "```\n",
    "\n",
    "Example 2:\n",
    "```\n",
    "Input: n = 13\n",
    "Output: 2\n",
    "Explanation: 13 = 4 + 9.\n",
    "```\n",
    "\n",
    "\n",
    "**Hint 1:**\n",
    "\n",
    "You can build a graph (n-ary tree) using the input as the root, and the children the difference between the input and the perfect squares less or equal to the input. Each of the children can become the root of a subtree built using the same idea. For example, the graph below reflects the first level of the tree for `n=17`. \n",
    "\n",
    "![](./hint1.png)\n",
    "\n",
    "\n",
    "Once the graph is defined, you can run BFS"
   ]
  },
  {
   "cell_type": "code",
   "execution_count": 55,
   "metadata": {},
   "outputs": [
    {
     "name": "stdout",
     "output_type": "stream",
     "text": [
      "2\n"
     ]
    }
   ],
   "source": [
    "import math\n",
    "def squares(n):\n",
    "    count=0\n",
    "    squares=[i ** 2 for i in range(1, int(n**(1/2)) + 1)]\n",
    "    queue={n}\n",
    "    count=0\n",
    "\n",
    "    while 0 not in queue:\n",
    "        queue ={num-raiz for num in queue\n",
    "            for raiz in squares\n",
    "                if num-raiz>=0}\n",
    "        count+=1\n",
    "    return count\n",
    "    \n",
    "    \n",
    "print(squares(13))\n",
    "\n",
    "        \n",
    "        \n",
    "        \n",
    "\n",
    "    \n",
    "    \n",
    "    "
   ]
  },
  {
   "cell_type": "code",
   "execution_count": null,
   "metadata": {},
   "outputs": [],
   "source": []
  }
 ],
 "metadata": {
  "kernelspec": {
   "display_name": "Python 3",
   "language": "python",
   "name": "python3"
  },
  "language_info": {
   "codemirror_mode": {
    "name": "ipython",
    "version": 3
   },
   "file_extension": ".py",
   "mimetype": "text/x-python",
   "name": "python",
   "nbconvert_exporter": "python",
   "pygments_lexer": "ipython3",
   "version": "3.7.3"
  }
 },
 "nbformat": 4,
 "nbformat_minor": 5
}
